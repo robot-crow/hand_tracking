{
 "cells": [
  {
   "cell_type": "code",
   "execution_count": 1,
   "id": "fd13f8ec-efbb-4ff9-8d45-e8cfc78e9a82",
   "metadata": {},
   "outputs": [],
   "source": [
    "import csv\n",
    "import os\n",
    "\n",
    "import numpy as np\n",
    "import tensorflow as tf\n",
    "from sklearn.model_selection import train_test_split\n",
    "from sklearn.preprocessing import OneHotEncoder\n",
    "\n",
    "import pandas as pd\n",
    "import seaborn as sns\n",
    "import matplotlib.pyplot as plt\n",
    "from sklearn.metrics import confusion_matrix, classification_report\n",
    "\n",
    "from tensorflow.keras.models import Sequential\n",
    "from tensorflow.keras.utils import to_categorical\n",
    "\n",
    "RANDOM_SEED = 42"
   ]
  },
  {
   "cell_type": "code",
   "execution_count": 2,
   "id": "3a974164-1ac9-4de6-833e-0177608b454b",
   "metadata": {},
   "outputs": [],
   "source": [
    "dynamic_csv_path = os.path.join(os.getcwd(), 'models/dynamic_gesture/data/gesture.csv')\n",
    "dynamic_classifier_path = os.path.join(os.getcwd(), 'models/dynamic_gesture/dynamic_classifier.keras')\n",
    "dynamic_tflite_path = os.path.join(os.getcwd(), 'models/dynamic_gesture/dynamic_classifier.tflite')"
   ]
  },
  {
   "cell_type": "code",
   "execution_count": 3,
   "id": "48641c9d-29e1-4219-8fe6-07cc62fbf76a",
   "metadata": {},
   "outputs": [],
   "source": [
    "'''\n",
    "My purpose is to take data from a csv which is a 30-frame long RECORDING of the relative positions of mediapipe \n",
    "hand landmark locations where each frame is a csv row. These rows contain coordinates and there are 21 landmarks. \n",
    "Thus, there are 42 hand landmarks (21x, 21y), and a 43rd variable representing handedness. Thus there are 43 FEATURES and \n",
    "1 y-target variable.\n",
    "\n",
    "This function takes X_data and converts it\n",
    "into blocks of 30, such that a sequence of 30 frames with 43 features is one input reference frame for an LSTM model\n",
    "\n",
    "The shape of the data is thus:\n",
    "\n",
    "gest = number of RECORDINGS\n",
    "frames = number of FRAMES per RECORDING\n",
    "features = number of FEATURES\n",
    "\n",
    "(gest, frames, features)\n",
    "or\n",
    "(gest, 30, 43)\n",
    "\n",
    "Finally, the y-target is a classification and as such the first of every 30 y_data represents the 0th row of every block, making\n",
    "the y_data array represent the classification of a corresponding X_data input block. It is encoded\n",
    "\n",
    "'''\n",
    "\n",
    "def preprocess_data(X_data, y_data, block_size=30):\n",
    "    X_data = X_data.copy()\n",
    "    y_data = y_data.copy()\n",
    "\n",
    "    # level 1: rows. Level 2: columns\n",
    "    num_rows = X_data.shape[0]\n",
    "    num_cols = X_data.shape[1]\n",
    "    # floor div, ie clip off anything that isnt a multiple of block_size (shouldnt happen due to capture method)\n",
    "    num_blocks = num_rows // block_size\n",
    "\n",
    "    # take care of the X values:\n",
    "    # we want the output to be in \"batches\" of block_size, so...\n",
    "    result_shape = (num_blocks, block_size, num_cols)\n",
    "\n",
    "    # get an index that is the consequence of finding the lowest number of blocks\n",
    "    array_ind = num_blocks * block_size\n",
    "\n",
    "    # slice & reshape\n",
    "    X_result = X_data[:array_ind].reshape(result_shape)\n",
    "    \n",
    "    y_result = y_data[::block_size]\n",
    "    \n",
    "    return X_result, y_result"
   ]
  },
  {
   "cell_type": "code",
   "execution_count": 4,
   "id": "892facda-742a-475a-a759-5300a6ed2012",
   "metadata": {},
   "outputs": [],
   "source": [
    "def generate_model(X_train, X_test, y_train, y_test, num_classes):\n",
    "\n",
    "    num_sequences = X_train.shape[0]\n",
    "    seq_length = X_train.shape[1]\n",
    "    num_features = X_train.shape[2]\n",
    "\n",
    "    input_shape = (seq_length, num_features)\n",
    "\n",
    "    # Create an LSTM model\n",
    "    model = tf.keras.models.Sequential([\n",
    "        tf.keras.layers.Input(shape=input_shape),\n",
    "        tf.keras.layers.LSTM(64, input_shape=input_shape,return_sequences=True),\n",
    "        tf.keras.layers.LSTM(64),\n",
    "        tf.keras.layers.Dropout(0.2),\n",
    "        tf.keras.layers.Dense(num_classes, activation='softmax')\n",
    "    ])\n",
    "\n",
    "\n",
    "    cp_callback = tf.keras.callbacks.ModelCheckpoint(dynamic_classifier_path, verbose=1, save_weights_only=False)\n",
    "    # es_callback = tf.keras.callbacks.EarlyStopping(monitor='val_loss', patience=20, verbose=1)\n",
    "    \n",
    "    # Compile the model\n",
    "    model.compile(loss='categorical_crossentropy', optimizer='adam', metrics=['accuracy'])\n",
    "\n",
    "    model.summary()\n",
    "    \n",
    "    # Train the model \n",
    "    model.fit(X_train, \n",
    "              y_train,\n",
    "              validation_data=(X_test, y_test),\n",
    "              callbacks=[cp_callback],\n",
    "              epochs=20, \n",
    "              batch_size=1)\n",
    "\n",
    "\n",
    "    \n",
    "    return model\n",
    "    "
   ]
  },
  {
   "cell_type": "code",
   "execution_count": 5,
   "id": "a10b6d40-7cd3-4b81-8376-c06aca63ec3b",
   "metadata": {},
   "outputs": [],
   "source": [
    "'''\n",
    "X_lim represents 21 hand landmarks with X,Y coords (therefore x2) and one handedness column\n",
    "the y_target is actually first in this list so X_lim should start at 1\n",
    "'''\n",
    "\n",
    "X_lim = 1 + (21 * 2)\n",
    "X_range = range(1, X_lim + 1)\n",
    "\n",
    "X = np.loadtxt(dynamic_csv_path, delimiter=',', dtype='float32', usecols=list(X_range))\n",
    "\n",
    "y = np.loadtxt(dynamic_csv_path, delimiter=',', dtype='float32', usecols=(0)).astype(np.int64)"
   ]
  },
  {
   "cell_type": "code",
   "execution_count": 6,
   "id": "158907a0-625a-4615-a34b-ce2ecd706d98",
   "metadata": {},
   "outputs": [],
   "source": [
    "X_, y_ = preprocess_data(X, y)"
   ]
  },
  {
   "cell_type": "code",
   "execution_count": 7,
   "id": "a51c6032-2794-4c44-bc27-24ae72723281",
   "metadata": {},
   "outputs": [],
   "source": [
    "#not enough data yet for stratified kfold\n",
    "X_train, X_test, y_train, y_test = train_test_split(X_, y_, test_size=0.2, random_state=RANDOM_SEED)\n",
    "\n",
    "# encode target variables for classification\n",
    "ohe = OneHotEncoder(handle_unknown='ignore')\n",
    "\n",
    "ohe = ohe.fit(y_train.reshape(-1, 1))\n",
    "\n",
    "y_train = ohe.transform(y_train.reshape(-1, 1)).toarray()\n",
    "y_test = ohe.transform(y_test.reshape(-1, 1)).toarray()\n",
    "\n",
    "num_classes = len(ohe.categories_[0])"
   ]
  },
  {
   "cell_type": "code",
   "execution_count": 8,
   "id": "cb13e4ed-1dfc-4443-9bfe-503b669ed0c9",
   "metadata": {
    "scrolled": true
   },
   "outputs": [
    {
     "name": "stdout",
     "output_type": "stream",
     "text": [
      "Model: \"sequential\"\n",
      "_________________________________________________________________\n",
      " Layer (type)                Output Shape              Param #   \n",
      "=================================================================\n",
      " lstm (LSTM)                 (None, 30, 64)            27648     \n",
      "                                                                 \n",
      " lstm_1 (LSTM)               (None, 64)                33024     \n",
      "                                                                 \n",
      " dropout (Dropout)           (None, 64)                0         \n",
      "                                                                 \n",
      " dense (Dense)               (None, 4)                 260       \n",
      "                                                                 \n",
      "=================================================================\n",
      "Total params: 60932 (238.02 KB)\n",
      "Trainable params: 60932 (238.02 KB)\n",
      "Non-trainable params: 0 (0.00 Byte)\n",
      "_________________________________________________________________\n",
      "Epoch 1/20\n",
      "36/38 [===========================>..] - ETA: 0s - loss: 1.3504 - accuracy: 0.3611\n",
      "Epoch 1: saving model to C:\\Users\\Mickey Nine\\PythonProjects\\repo\\py_projects\\hand_tracking\\models/dynamic_gesture\\dynamic_classifier.keras\n",
      "38/38 [==============================] - 5s 37ms/step - loss: 1.3514 - accuracy: 0.3421 - val_loss: 0.8076 - val_accuracy: 0.8000\n",
      "Epoch 2/20\n",
      "35/38 [==========================>...] - ETA: 0s - loss: 0.8018 - accuracy: 0.6000\n",
      "Epoch 2: saving model to C:\\Users\\Mickey Nine\\PythonProjects\\repo\\py_projects\\hand_tracking\\models/dynamic_gesture\\dynamic_classifier.keras\n",
      "38/38 [==============================] - 0s 10ms/step - loss: 0.8116 - accuracy: 0.5789 - val_loss: 0.7204 - val_accuracy: 0.5000\n",
      "Epoch 3/20\n",
      "36/38 [===========================>..] - ETA: 0s - loss: 0.7245 - accuracy: 0.6111\n",
      "Epoch 3: saving model to C:\\Users\\Mickey Nine\\PythonProjects\\repo\\py_projects\\hand_tracking\\models/dynamic_gesture\\dynamic_classifier.keras\n",
      "38/38 [==============================] - 0s 10ms/step - loss: 0.7100 - accuracy: 0.6316 - val_loss: 0.4977 - val_accuracy: 0.8000\n",
      "Epoch 4/20\n",
      "33/38 [=========================>....] - ETA: 0s - loss: 0.5926 - accuracy: 0.7273\n",
      "Epoch 4: saving model to C:\\Users\\Mickey Nine\\PythonProjects\\repo\\py_projects\\hand_tracking\\models/dynamic_gesture\\dynamic_classifier.keras\n",
      "38/38 [==============================] - 0s 11ms/step - loss: 0.5915 - accuracy: 0.7368 - val_loss: 0.4426 - val_accuracy: 0.7000\n",
      "Epoch 5/20\n",
      "36/38 [===========================>..] - ETA: 0s - loss: 0.7133 - accuracy: 0.7500\n",
      "Epoch 5: saving model to C:\\Users\\Mickey Nine\\PythonProjects\\repo\\py_projects\\hand_tracking\\models/dynamic_gesture\\dynamic_classifier.keras\n",
      "38/38 [==============================] - 0s 10ms/step - loss: 0.6941 - accuracy: 0.7632 - val_loss: 0.4936 - val_accuracy: 0.9000\n",
      "Epoch 6/20\n",
      "34/38 [=========================>....] - ETA: 0s - loss: 0.6219 - accuracy: 0.6765\n",
      "Epoch 6: saving model to C:\\Users\\Mickey Nine\\PythonProjects\\repo\\py_projects\\hand_tracking\\models/dynamic_gesture\\dynamic_classifier.keras\n",
      "38/38 [==============================] - 0s 10ms/step - loss: 0.5962 - accuracy: 0.7105 - val_loss: 0.4366 - val_accuracy: 0.9000\n",
      "Epoch 7/20\n",
      "36/38 [===========================>..] - ETA: 0s - loss: 0.5924 - accuracy: 0.7778\n",
      "Epoch 7: saving model to C:\\Users\\Mickey Nine\\PythonProjects\\repo\\py_projects\\hand_tracking\\models/dynamic_gesture\\dynamic_classifier.keras\n",
      "38/38 [==============================] - 0s 10ms/step - loss: 0.6280 - accuracy: 0.7632 - val_loss: 0.7028 - val_accuracy: 0.6000\n",
      "Epoch 8/20\n",
      "35/38 [==========================>...] - ETA: 0s - loss: 0.5027 - accuracy: 0.7429\n",
      "Epoch 8: saving model to C:\\Users\\Mickey Nine\\PythonProjects\\repo\\py_projects\\hand_tracking\\models/dynamic_gesture\\dynamic_classifier.keras\n",
      "38/38 [==============================] - 0s 10ms/step - loss: 0.5265 - accuracy: 0.7368 - val_loss: 0.6404 - val_accuracy: 0.6000\n",
      "Epoch 9/20\n",
      "36/38 [===========================>..] - ETA: 0s - loss: 0.4888 - accuracy: 0.7500\n",
      "Epoch 9: saving model to C:\\Users\\Mickey Nine\\PythonProjects\\repo\\py_projects\\hand_tracking\\models/dynamic_gesture\\dynamic_classifier.keras\n",
      "38/38 [==============================] - 0s 10ms/step - loss: 0.4881 - accuracy: 0.7632 - val_loss: 0.3725 - val_accuracy: 0.8000\n",
      "Epoch 10/20\n",
      "34/38 [=========================>....] - ETA: 0s - loss: 0.6334 - accuracy: 0.7059\n",
      "Epoch 10: saving model to C:\\Users\\Mickey Nine\\PythonProjects\\repo\\py_projects\\hand_tracking\\models/dynamic_gesture\\dynamic_classifier.keras\n",
      "38/38 [==============================] - 0s 10ms/step - loss: 0.5905 - accuracy: 0.7368 - val_loss: 0.7344 - val_accuracy: 0.6000\n",
      "Epoch 11/20\n",
      "36/38 [===========================>..] - ETA: 0s - loss: 0.6288 - accuracy: 0.6667\n",
      "Epoch 11: saving model to C:\\Users\\Mickey Nine\\PythonProjects\\repo\\py_projects\\hand_tracking\\models/dynamic_gesture\\dynamic_classifier.keras\n",
      "38/38 [==============================] - 0s 10ms/step - loss: 0.6107 - accuracy: 0.6842 - val_loss: 0.5045 - val_accuracy: 0.7000\n",
      "Epoch 12/20\n",
      "36/38 [===========================>..] - ETA: 0s - loss: 0.4306 - accuracy: 0.8056\n",
      "Epoch 12: saving model to C:\\Users\\Mickey Nine\\PythonProjects\\repo\\py_projects\\hand_tracking\\models/dynamic_gesture\\dynamic_classifier.keras\n",
      "38/38 [==============================] - 0s 10ms/step - loss: 0.4253 - accuracy: 0.8158 - val_loss: 0.4732 - val_accuracy: 0.8000\n",
      "Epoch 13/20\n",
      "38/38 [==============================] - ETA: 0s - loss: 0.4460 - accuracy: 0.8158\n",
      "Epoch 13: saving model to C:\\Users\\Mickey Nine\\PythonProjects\\repo\\py_projects\\hand_tracking\\models/dynamic_gesture\\dynamic_classifier.keras\n",
      "38/38 [==============================] - 0s 11ms/step - loss: 0.4460 - accuracy: 0.8158 - val_loss: 0.4973 - val_accuracy: 0.7000\n",
      "Epoch 14/20\n",
      "35/38 [==========================>...] - ETA: 0s - loss: 0.4201 - accuracy: 0.7714\n",
      "Epoch 14: saving model to C:\\Users\\Mickey Nine\\PythonProjects\\repo\\py_projects\\hand_tracking\\models/dynamic_gesture\\dynamic_classifier.keras\n",
      "38/38 [==============================] - 0s 10ms/step - loss: 0.4224 - accuracy: 0.7632 - val_loss: 0.4084 - val_accuracy: 0.8000\n",
      "Epoch 15/20\n",
      "36/38 [===========================>..] - ETA: 0s - loss: 0.5074 - accuracy: 0.6944\n",
      "Epoch 15: saving model to C:\\Users\\Mickey Nine\\PythonProjects\\repo\\py_projects\\hand_tracking\\models/dynamic_gesture\\dynamic_classifier.keras\n",
      "38/38 [==============================] - 0s 10ms/step - loss: 0.4919 - accuracy: 0.7105 - val_loss: 0.3661 - val_accuracy: 0.8000\n",
      "Epoch 16/20\n",
      "34/38 [=========================>....] - ETA: 0s - loss: 0.4240 - accuracy: 0.7647\n",
      "Epoch 16: saving model to C:\\Users\\Mickey Nine\\PythonProjects\\repo\\py_projects\\hand_tracking\\models/dynamic_gesture\\dynamic_classifier.keras\n",
      "38/38 [==============================] - 0s 10ms/step - loss: 0.4471 - accuracy: 0.7632 - val_loss: 0.4558 - val_accuracy: 0.7000\n",
      "Epoch 17/20\n",
      "36/38 [===========================>..] - ETA: 0s - loss: 0.3764 - accuracy: 0.8611\n",
      "Epoch 17: saving model to C:\\Users\\Mickey Nine\\PythonProjects\\repo\\py_projects\\hand_tracking\\models/dynamic_gesture\\dynamic_classifier.keras\n",
      "38/38 [==============================] - 0s 10ms/step - loss: 0.3885 - accuracy: 0.8684 - val_loss: 0.3916 - val_accuracy: 0.8000\n",
      "Epoch 18/20\n",
      "33/38 [=========================>....] - ETA: 0s - loss: 0.3832 - accuracy: 0.8485\n",
      "Epoch 18: saving model to C:\\Users\\Mickey Nine\\PythonProjects\\repo\\py_projects\\hand_tracking\\models/dynamic_gesture\\dynamic_classifier.keras\n",
      "38/38 [==============================] - 0s 10ms/step - loss: 0.3809 - accuracy: 0.8421 - val_loss: 0.5186 - val_accuracy: 0.8000\n",
      "Epoch 19/20\n",
      "35/38 [==========================>...] - ETA: 0s - loss: 0.3536 - accuracy: 0.8286\n",
      "Epoch 19: saving model to C:\\Users\\Mickey Nine\\PythonProjects\\repo\\py_projects\\hand_tracking\\models/dynamic_gesture\\dynamic_classifier.keras\n",
      "38/38 [==============================] - 0s 10ms/step - loss: 0.3544 - accuracy: 0.8158 - val_loss: 0.4588 - val_accuracy: 0.8000\n",
      "Epoch 20/20\n",
      "34/38 [=========================>....] - ETA: 0s - loss: 0.2959 - accuracy: 0.8824\n",
      "Epoch 20: saving model to C:\\Users\\Mickey Nine\\PythonProjects\\repo\\py_projects\\hand_tracking\\models/dynamic_gesture\\dynamic_classifier.keras\n",
      "38/38 [==============================] - 0s 10ms/step - loss: 0.3395 - accuracy: 0.8421 - val_loss: 0.3822 - val_accuracy: 0.8000\n"
     ]
    }
   ],
   "source": [
    "m = generate_model(X_train, X_test, y_train, y_test, num_classes)"
   ]
  },
  {
   "cell_type": "code",
   "execution_count": 9,
   "id": "c0a42faa-f54d-4964-af2e-600fba9321f0",
   "metadata": {},
   "outputs": [
    {
     "name": "stdout",
     "output_type": "stream",
     "text": [
      "1/1 [==============================] - 1s 962ms/step - loss: 0.3822 - accuracy: 0.8000\n"
     ]
    }
   ],
   "source": [
    "# Model evaluation\n",
    "val_loss, val_acc = m.evaluate(X_test, y_test, batch_size=128)"
   ]
  },
  {
   "cell_type": "code",
   "execution_count": 10,
   "id": "678c85b5-da30-49cc-aa1f-229a44a4b94c",
   "metadata": {},
   "outputs": [],
   "source": [
    "# Load saved model\n",
    "model = tf.keras.models.load_model(dynamic_classifier_path)"
   ]
  },
  {
   "cell_type": "code",
   "execution_count": 11,
   "id": "2cb8638d-38e9-4f9d-815f-609eb85efbf8",
   "metadata": {},
   "outputs": [
    {
     "name": "stdout",
     "output_type": "stream",
     "text": [
      "1/1 [==============================] - 1s 861ms/step\n",
      "[0.21062177 0.00387338 0.7797507  0.0057542 ]\n",
      "2\n"
     ]
    }
   ],
   "source": [
    "# Inference test\n",
    "predict_result = model.predict(np.array([X_test[0]]))\n",
    "print(np.squeeze(predict_result))\n",
    "print(np.argmax(np.squeeze(predict_result)))"
   ]
  },
  {
   "cell_type": "code",
   "execution_count": 12,
   "id": "ba6227bb-aeb9-408d-817b-c649da697a86",
   "metadata": {},
   "outputs": [],
   "source": [
    "def display_confusion_matrix(y_true, y_pred, report=True): \n",
    "    labels = sorted(list(set(y_true)))\n",
    "    cmx_data = confusion_matrix(y_true, y_pred, labels=labels)\n",
    "    \n",
    "    df_cmx = pd.DataFrame(cmx_data, index=labels, columns=labels)\n",
    " \n",
    "    fig, ax = plt.subplots(figsize=(7, 6))\n",
    "    sns.heatmap(df_cmx, annot=True, fmt='g' ,square=False)\n",
    "    ax.set_ylim(len(set(y_true)), 0)\n",
    "    plt.show()\n",
    "    \n",
    "    if report:\n",
    "        print('Classification Report')\n",
    "        print(classification_report(y_true, y_pred))\n",
    "\n",
    "\n"
   ]
  },
  {
   "cell_type": "code",
   "execution_count": 13,
   "id": "c05f993b-c676-4093-99cc-87c7758e46a6",
   "metadata": {},
   "outputs": [
    {
     "name": "stdout",
     "output_type": "stream",
     "text": [
      "1/1 [==============================] - 0s 23ms/step\n"
     ]
    },
    {
     "data": {
      "image/png": "[encoded data removed]",
      "text/plain": [
       "<Figure size 700x600 with 2 Axes>"
      ]
     },
     "metadata": {},
     "output_type": "display_data"
    },
    {
     "name": "stdout",
     "output_type": "stream",
     "text": [
      "Classification Report\n",
      "              precision    recall  f1-score   support\n",
      "\n",
      "           0       1.00      1.00      1.00         1\n",
      "           1       0.50      1.00      0.67         2\n",
      "           2       1.00      1.00      1.00         4\n",
      "           3       1.00      0.33      0.50         3\n",
      "\n",
      "    accuracy                           0.80        10\n",
      "   macro avg       0.88      0.83      0.79        10\n",
      "weighted avg       0.90      0.80      0.78        10\n",
      "\n"
     ]
    }
   ],
   "source": [
    "Y_pred = model.predict(X_test)\n",
    "y_pred = np.argmax(Y_pred, axis=1)\n",
    "\n",
    "y_pred\n",
    "\n",
    "# we need to inverse transform y_test for the purposes of comparison (nested array problem)\n",
    "display_confusion_matrix(ohe.inverse_transform(y_test).flatten(), y_pred)"
   ]
  },
  {
   "cell_type": "code",
   "execution_count": 14,
   "id": "e24df87b-92ed-4707-bbd8-8730d2d07e22",
   "metadata": {},
   "outputs": [],
   "source": [
    "# Save model\n",
    "model.save(dynamic_classifier_path)"
   ]
  },
  {
   "cell_type": "code",
   "execution_count": 15,
   "id": "90f92916-82e1-4f47-9ae6-067222b7e173",
   "metadata": {
    "scrolled": true
   },
   "outputs": [
    {
     "name": "stdout",
     "output_type": "stream",
     "text": [
      "INFO:tensorflow:Assets written to: C:\\Users\\MICKEY~1\\AppData\\Local\\Temp\\tmpm7k65q7i\\assets\n"
     ]
    },
    {
     "name": "stderr",
     "output_type": "stream",
     "text": [
      "INFO:tensorflow:Assets written to: C:\\Users\\MICKEY~1\\AppData\\Local\\Temp\\tmpm7k65q7i\\assets\n"
     ]
    },
    {
     "data": {
      "text/plain": [
       "81672"
      ]
     },
     "execution_count": 15,
     "metadata": {},
     "output_type": "execute_result"
    }
   ],
   "source": [
    "# Transform model to tflite\n",
    "\n",
    "converter = tf.lite.TFLiteConverter.from_keras_model(model)\n",
    "\n",
    "converter.target_spec.supported_ops = [tf.lite.OpsSet.TFLITE_BUILTINS, tf.lite.OpsSet.SELECT_TF_OPS] \n",
    "converter._experimental_lower_tensor_list_ops = False\n",
    "\n",
    "converter.optimizations = [tf.lite.Optimize.DEFAULT]\n",
    "tflite_quantized_model = converter.convert()\n",
    "\n",
    "open(dynamic_tflite_path, 'wb').write(tflite_quantized_model)"
   ]
  },
  {
   "cell_type": "code",
   "execution_count": 16,
   "id": "9d9a518b-2a80-4efb-b4c2-803e3cd6c06d",
   "metadata": {},
   "outputs": [],
   "source": [
    "interpreter = tf.lite.Interpreter(model_path=dynamic_tflite_path)\n",
    "interpreter.allocate_tensors()"
   ]
  },
  {
   "cell_type": "code",
   "execution_count": 17,
   "id": "6a1e5883-e876-4093-ac4e-7baa76f1e468",
   "metadata": {},
   "outputs": [],
   "source": [
    "# Get input/output details\n",
    "input_details = interpreter.get_input_details()\n",
    "output_details = interpreter.get_output_details()"
   ]
  },
  {
   "cell_type": "code",
   "execution_count": 18,
   "id": "fd3aeb58-9b90-43ee-97dd-024525d886bc",
   "metadata": {},
   "outputs": [
    {
     "name": "stdout",
     "output_type": "stream",
     "text": [
      "CPU times: total: 0 ns\n",
      "Wall time: 3 ms\n"
     ]
    }
   ],
   "source": [
    "%%time\n",
    "# Infer\n",
    "interpreter.invoke()\n",
    "tflite_results = interpreter.get_tensor(output_details[0]['index'])"
   ]
  },
  {
   "cell_type": "code",
   "execution_count": 19,
   "id": "5d28eabb-0940-4f40-859e-9c3700d4da4a",
   "metadata": {},
   "outputs": [
    {
     "name": "stdout",
     "output_type": "stream",
     "text": [
      "[0.1872704  0.03388042 0.6863577  0.09249149]\n",
      "2\n"
     ]
    }
   ],
   "source": [
    "print(np.squeeze(tflite_results))\n",
    "print(np.argmax(np.squeeze(tflite_results)))"
   ]
  },
  {
   "cell_type": "code",
   "execution_count": null,
   "id": "f363d304-e240-41af-a691-8cb94b0bd1cd",
   "metadata": {},
   "outputs": [],
   "source": []
  },
  {
   "cell_type": "code",
   "execution_count": null,
   "id": "a1e2e3af-3233-497a-8723-f8519342ce80",
   "metadata": {},
   "outputs": [],
   "source": []
  }
 ],
 "metadata": {
  "kernelspec": {
   "display_name": "Python 3 (ipykernel)",
   "language": "python",
   "name": "python3"
  },
  "language_info": {
   "codemirror_mode": {
    "name": "ipython",
    "version": 3
   },
   "file_extension": ".py",
   "mimetype": "text/x-python",
   "name": "python",
   "nbconvert_exporter": "python",
   "pygments_lexer": "ipython3",
   "version": "3.11.1"
  }
 },
 "nbformat": 4,
 "nbformat_minor": 5
}
