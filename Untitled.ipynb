{
 "cells": [
  {
   "cell_type": "code",
   "execution_count": 1,
   "id": "85320d8e-9043-4f41-baf7-cb2efa59e2e2",
   "metadata": {},
   "outputs": [],
   "source": [
    "from collections import deque"
   ]
  },
  {
   "cell_type": "code",
   "execution_count": 2,
   "id": "9abaf10b-9dad-4f37-8768-e22682e408b6",
   "metadata": {},
   "outputs": [],
   "source": [
    "start = 0\n",
    "stop = 300 - 1"
   ]
  },
  {
   "cell_type": "code",
   "execution_count": null,
   "id": "865938ca-b851-403c-8936-0a32cc62967d",
   "metadata": {},
   "outputs": [],
   "source": [
    "q = deque"
   ]
  },
  {
   "cell_type": "code",
   "execution_count": 8,
   "id": "6bf7c428-1d43-4699-911b-754ecf1a0494",
   "metadata": {},
   "outputs": [],
   "source": [
    "a = [None for i in range(0, 30)]\n",
    "a[0] = 1"
   ]
  },
  {
   "cell_type": "code",
   "execution_count": 9,
   "id": "10b519f1-0f99-4cf7-97a8-7e8fc3bcbb9b",
   "metadata": {},
   "outputs": [
    {
     "name": "stdout",
     "output_type": "stream",
     "text": [
      "1\n",
      "not\n",
      "not\n",
      "not\n",
      "not\n",
      "not\n",
      "not\n",
      "not\n",
      "not\n",
      "not\n",
      "not\n",
      "not\n",
      "not\n",
      "not\n",
      "not\n",
      "not\n",
      "not\n",
      "not\n",
      "not\n",
      "not\n",
      "not\n",
      "not\n",
      "not\n",
      "not\n",
      "not\n",
      "not\n",
      "not\n",
      "not\n",
      "not\n",
      "not\n"
     ]
    }
   ],
   "source": [
    "for item in a:\n",
    "    if item:\n",
    "        print(item)\n",
    "    if not item:\n",
    "        print('not')"
   ]
  },
  {
   "cell_type": "code",
   "execution_count": null,
   "id": "70d01573-1e57-4c0b-a237-dea34abc8354",
   "metadata": {},
   "outputs": [],
   "source": []
  }
 ],
 "metadata": {
  "kernelspec": {
   "display_name": "Python 3 (ipykernel)",
   "language": "python",
   "name": "python3"
  },
  "language_info": {
   "codemirror_mode": {
    "name": "ipython",
    "version": 3
   },
   "file_extension": ".py",
   "mimetype": "text/x-python",
   "name": "python",
   "nbconvert_exporter": "python",
   "pygments_lexer": "ipython3",
   "version": "3.11.1"
  }
 },
 "nbformat": 4,
 "nbformat_minor": 5
}
